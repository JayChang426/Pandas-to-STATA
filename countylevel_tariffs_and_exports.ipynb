{
 "cells": [
  {
   "cell_type": "code",
   "execution_count": 10,
   "id": "e109928a",
   "metadata": {},
   "outputs": [],
   "source": [
    "import pandas as pd             # data package\n",
    "import matplotlib.pyplot as plt # graphics \n",
    "import datetime as dt\n",
    "import numpy as np\n",
    "\n",
    "import requests, io             # internet and input tools  \n",
    "import zipfile as zf            # zip file tools \n",
    "import os  \n",
    "\n",
    "#import weightedcalcs as wc\n",
    "#import numpy as np\n",
    "\n",
    "import pyarrow as pa\n",
    "import pyarrow.parquet as pq"
   ]
  },
  {
   "cell_type": "code",
   "execution_count": 11,
   "id": "b1e65ebb",
   "metadata": {},
   "outputs": [],
   "source": [
    "file_path = os.getcwd()\n",
    "\n",
    "fig_path = file_path +\"\\\\figures\""
   ]
  },
  {
   "cell_type": "code",
   "execution_count": 12,
   "id": "26815015",
   "metadata": {},
   "outputs": [
    {
     "name": "stdout",
     "output_type": "stream",
     "text": [
      "\n",
      "**********************************************************************************\n",
      "Downloading and processing BLS file\n",
      "\n",
      "Type of zipfile object: <class 'zipfile.ZipFile'>\n"
     ]
    },
    {
     "name": "stderr",
     "output_type": "stream",
     "text": [
      "/var/folders/60/4kc0p2cn3w5_067bvcmybpbw0000gn/T/ipykernel_50089/1077924030.py:19: DtypeWarning: Columns (0) have mixed types. Specify dtype option on import or set low_memory=False.\n",
      "  df = pd.read_csv(bls_sf.open(bls_sf.namelist()[0]), usecols= clist)\n"
     ]
    },
    {
     "data": {
      "text/html": [
       "<div>\n",
       "<style scoped>\n",
       "    .dataframe tbody tr th:only-of-type {\n",
       "        vertical-align: middle;\n",
       "    }\n",
       "\n",
       "    .dataframe tbody tr th {\n",
       "        vertical-align: top;\n",
       "    }\n",
       "\n",
       "    .dataframe thead th {\n",
       "        text-align: right;\n",
       "    }\n",
       "</style>\n",
       "<table border=\"1\" class=\"dataframe\">\n",
       "  <thead>\n",
       "    <tr style=\"text-align: right;\">\n",
       "      <th></th>\n",
       "      <th>area_fips</th>\n",
       "      <th>own_code</th>\n",
       "      <th>industry_code</th>\n",
       "      <th>agglvl_code</th>\n",
       "      <th>size_code</th>\n",
       "      <th>year</th>\n",
       "      <th>disclosure_code</th>\n",
       "      <th>annual_avg_estabs</th>\n",
       "      <th>annual_avg_emplvl</th>\n",
       "      <th>total_annual_wages</th>\n",
       "      <th>avg_annual_pay</th>\n",
       "    </tr>\n",
       "  </thead>\n",
       "  <tbody>\n",
       "    <tr>\n",
       "      <th>0</th>\n",
       "      <td>1000</td>\n",
       "      <td>0</td>\n",
       "      <td>10</td>\n",
       "      <td>50</td>\n",
       "      <td>0</td>\n",
       "      <td>2017</td>\n",
       "      <td>NaN</td>\n",
       "      <td>124881</td>\n",
       "      <td>1936819</td>\n",
       "      <td>89088710816</td>\n",
       "      <td>45997</td>\n",
       "    </tr>\n",
       "    <tr>\n",
       "      <th>1</th>\n",
       "      <td>1000</td>\n",
       "      <td>1</td>\n",
       "      <td>10</td>\n",
       "      <td>51</td>\n",
       "      <td>0</td>\n",
       "      <td>2017</td>\n",
       "      <td>NaN</td>\n",
       "      <td>1208</td>\n",
       "      <td>53131</td>\n",
       "      <td>4339038631</td>\n",
       "      <td>81668</td>\n",
       "    </tr>\n",
       "    <tr>\n",
       "      <th>2</th>\n",
       "      <td>1000</td>\n",
       "      <td>1</td>\n",
       "      <td>102</td>\n",
       "      <td>52</td>\n",
       "      <td>0</td>\n",
       "      <td>2017</td>\n",
       "      <td>NaN</td>\n",
       "      <td>1208</td>\n",
       "      <td>53131</td>\n",
       "      <td>4339038631</td>\n",
       "      <td>81668</td>\n",
       "    </tr>\n",
       "    <tr>\n",
       "      <th>3</th>\n",
       "      <td>1000</td>\n",
       "      <td>1</td>\n",
       "      <td>1021</td>\n",
       "      <td>53</td>\n",
       "      <td>0</td>\n",
       "      <td>2017</td>\n",
       "      <td>NaN</td>\n",
       "      <td>610</td>\n",
       "      <td>11173</td>\n",
       "      <td>716001109</td>\n",
       "      <td>64083</td>\n",
       "    </tr>\n",
       "    <tr>\n",
       "      <th>4</th>\n",
       "      <td>1000</td>\n",
       "      <td>1</td>\n",
       "      <td>1022</td>\n",
       "      <td>53</td>\n",
       "      <td>0</td>\n",
       "      <td>2017</td>\n",
       "      <td>NaN</td>\n",
       "      <td>2</td>\n",
       "      <td>12</td>\n",
       "      <td>369309</td>\n",
       "      <td>30354</td>\n",
       "    </tr>\n",
       "  </tbody>\n",
       "</table>\n",
       "</div>"
      ],
      "text/plain": [
       "  area_fips  own_code industry_code  agglvl_code  size_code  year  \\\n",
       "0      1000         0            10           50          0  2017   \n",
       "1      1000         1            10           51          0  2017   \n",
       "2      1000         1           102           52          0  2017   \n",
       "3      1000         1          1021           53          0  2017   \n",
       "4      1000         1          1022           53          0  2017   \n",
       "\n",
       "  disclosure_code  annual_avg_estabs  annual_avg_emplvl  total_annual_wages  \\\n",
       "0             NaN             124881            1936819         89088710816   \n",
       "1             NaN               1208              53131          4339038631   \n",
       "2             NaN               1208              53131          4339038631   \n",
       "3             NaN                610              11173           716001109   \n",
       "4             NaN                  2                 12              369309   \n",
       "\n",
       "   avg_annual_pay  \n",
       "0           45997  \n",
       "1           81668  \n",
       "2           81668  \n",
       "3           64083  \n",
       "4           30354  "
      ]
     },
     "execution_count": 12,
     "metadata": {},
     "output_type": "execute_result"
    }
   ],
   "source": [
    "print(\"\")\n",
    "print(\"**********************************************************************************\")\n",
    "print(\"Downloading and processing BLS file\")\n",
    "print(\"\")\n",
    "\n",
    "url = \"https://data.bls.gov/cew/data/files/2017/csv/2017_annual_singlefile.zip\"\n",
    "# This will read in the annual, single file. It's big, but has all we want...\n",
    "\n",
    "r = requests.get(url) \n",
    "\n",
    "# convert bytes to zip file  \n",
    "bls_sf = zf.ZipFile(io.BytesIO(r.content)) \n",
    "print('Type of zipfile object:', type(bls_sf))\n",
    "\n",
    "clist = ['area_fips', 'own_code', 'industry_code', 'agglvl_code', 'size_code',\n",
    "       'year', 'disclosure_code', 'annual_avg_estabs',\n",
    "       'annual_avg_emplvl', 'total_annual_wages','avg_annual_pay']\n",
    "\n",
    "df = pd.read_csv(bls_sf.open(bls_sf.namelist()[0]), usecols= clist)\n",
    "\n",
    "# SHOULD PRESPECIFY TYPES TO \n",
    "\n",
    "df.head()"
   ]
  },
  {
   "cell_type": "code",
   "execution_count": 13,
   "id": "b1895173",
   "metadata": {},
   "outputs": [
    {
     "data": {
      "text/plain": [
       "(3561646, 11)"
      ]
     },
     "execution_count": 13,
     "metadata": {},
     "output_type": "execute_result"
    }
   ],
   "source": [
    "df.shape\n",
    "# df.to_csv(\"/Users/changjay/Desktop/Pandas-to-STATA Project/countylevel_tariffs_and_exports/step1_initial.csv\")\n",
    "# df.to_stata(\"/Users/changjay/Desktop/Pandas-to-STATA Project/countylevel_tariffs_and_exports/countylevel_tariffs_and_exports.dta\")"
   ]
  },
  {
   "cell_type": "code",
   "execution_count": 14,
   "id": "0dab27a0",
   "metadata": {
    "scrolled": true
   },
   "outputs": [
    {
     "data": {
      "text/plain": [
       "'\\nlocation = \"/Users/changjay/Desktop/Pandas-to-STATA Project/countylevel_tariffs_and_exports/initial.csv\"\\n\\ndf = pd.read_csv(location)\\ndf.head()\\n'"
      ]
     },
     "execution_count": 14,
     "metadata": {},
     "output_type": "execute_result"
    }
   ],
   "source": [
    "'''\n",
    "location = \"/Users/changjay/Desktop/Pandas-to-STATA Project/countylevel_tariffs_and_exports/initial.csv\"\n",
    "\n",
    "df = pd.read_csv(location)\n",
    "df.head()\n",
    "'''"
   ]
  },
  {
   "cell_type": "code",
   "execution_count": 15,
   "id": "26845036",
   "metadata": {
    "scrolled": true
   },
   "outputs": [
    {
     "data": {
      "text/plain": [
       "(274608, 11)"
      ]
     },
     "execution_count": 15,
     "metadata": {},
     "output_type": "execute_result"
    }
   ],
   "source": [
    "NAICS_county_level = 75 \n",
    "# This is the code that will select only counties at the 3 digit NAICS level\n",
    "\n",
    "df_county = df[df.agglvl_code == NAICS_county_level].copy()\n",
    "df_county.shape"
   ]
  },
  {
   "cell_type": "code",
   "execution_count": 16,
   "id": "2b039098",
   "metadata": {},
   "outputs": [
    {
     "data": {
      "text/plain": [
       "(203667, 11)"
      ]
     },
     "execution_count": 16,
     "metadata": {},
     "output_type": "execute_result"
    }
   ],
   "source": [
    "df_county = df_county[df_county.own_code == 5]\n",
    "# Only grab private stuff\n",
    "df_county.shape\n",
    "# df_county.head()"
   ]
  },
  {
   "cell_type": "code",
   "execution_count": 17,
   "id": "14aab926",
   "metadata": {},
   "outputs": [
    {
     "data": {
      "text/plain": [
       "(199393, 11)"
      ]
     },
     "execution_count": 17,
     "metadata": {},
     "output_type": "execute_result"
    }
   ],
   "source": [
    "df_county['area_fips'] = df['area_fips'].astype(str) # the author forgot this command.\n",
    "### The author forgot to transform the data type of area_fips, but if this command is run with other commands, there will be no error warning.\n",
    "### So I add this command myself. However, the result is just slightly different.\n",
    "# df_county.area_fips.dtype\n",
    "df_county = df_county[(df_county.area_fips.str[0:2] != \"72\") & (df_county.area_fips.str[0:2] != \"78\")\n",
    "              & (df_county.area_fips.str[0:2] != \"02\") & (df_county.area_fips.str[0:2] != \"15\")]\n",
    "# Drop puerto rico, alaska, hawaii...this mayb not be doing what I think it is...as it looks like these guys are there\n",
    "# Does not matter as analysis is performed withthem, drop them when do the map. \n",
    "df_county.shape"
   ]
  },
  {
   "cell_type": "code",
   "execution_count": 18,
   "id": "9b0086a9",
   "metadata": {},
   "outputs": [
    {
     "data": {
      "text/html": [
       "<div>\n",
       "<style scoped>\n",
       "    .dataframe tbody tr th:only-of-type {\n",
       "        vertical-align: middle;\n",
       "    }\n",
       "\n",
       "    .dataframe tbody tr th {\n",
       "        vertical-align: top;\n",
       "    }\n",
       "\n",
       "    .dataframe thead th {\n",
       "        text-align: right;\n",
       "    }\n",
       "</style>\n",
       "<table border=\"1\" class=\"dataframe\">\n",
       "  <thead>\n",
       "    <tr style=\"text-align: right;\">\n",
       "      <th></th>\n",
       "      <th>annual_avg_emplvl</th>\n",
       "    </tr>\n",
       "    <tr>\n",
       "      <th>industry_code</th>\n",
       "      <th></th>\n",
       "    </tr>\n",
       "  </thead>\n",
       "  <tbody>\n",
       "    <tr>\n",
       "      <th>111</th>\n",
       "      <td>527459</td>\n",
       "    </tr>\n",
       "    <tr>\n",
       "      <th>112</th>\n",
       "      <td>226092</td>\n",
       "    </tr>\n",
       "    <tr>\n",
       "      <th>113</th>\n",
       "      <td>45166</td>\n",
       "    </tr>\n",
       "    <tr>\n",
       "      <th>114</th>\n",
       "      <td>5005</td>\n",
       "    </tr>\n",
       "    <tr>\n",
       "      <th>115</th>\n",
       "      <td>352782</td>\n",
       "    </tr>\n",
       "  </tbody>\n",
       "</table>\n",
       "</div>"
      ],
      "text/plain": [
       "               annual_avg_emplvl\n",
       "industry_code                   \n",
       "111                       527459\n",
       "112                       226092\n",
       "113                        45166\n",
       "114                         5005\n",
       "115                       352782"
      ]
     },
     "execution_count": 18,
     "metadata": {},
     "output_type": "execute_result"
    }
   ],
   "source": [
    "df_county[\"sup_ind\"] = df_county.industry_code.str[1].astype(int)\n",
    "# sometimes there are super industries floating around we want to drop them.\n",
    "# not clear if this matters with the conditioning all ready\n",
    "\n",
    "df_county = df_county[df_county[\"sup_ind\"] > 0]\n",
    "\n",
    "df_county.area_fips = df_county.area_fips.astype(str)\n",
    "\n",
    "df_national = df_county.groupby(\"industry_code\").agg({\"annual_avg_emplvl\": \"sum\"})\n",
    "df_national.shape\n",
    "df_national.head()"
   ]
  },
  {
   "cell_type": "code",
   "execution_count": 19,
   "id": "6ae0ad9f",
   "metadata": {},
   "outputs": [
    {
     "data": {
      "text/html": [
       "<div>\n",
       "<style scoped>\n",
       "    .dataframe tbody tr th:only-of-type {\n",
       "        vertical-align: middle;\n",
       "    }\n",
       "\n",
       "    .dataframe tbody tr th {\n",
       "        vertical-align: top;\n",
       "    }\n",
       "\n",
       "    .dataframe thead th {\n",
       "        text-align: right;\n",
       "    }\n",
       "</style>\n",
       "<table border=\"1\" class=\"dataframe\">\n",
       "  <thead>\n",
       "    <tr style=\"text-align: right;\">\n",
       "      <th></th>\n",
       "      <th>industry_code</th>\n",
       "      <th>nat_emplvl</th>\n",
       "    </tr>\n",
       "  </thead>\n",
       "  <tbody>\n",
       "    <tr>\n",
       "      <th>0</th>\n",
       "      <td>111</td>\n",
       "      <td>527459</td>\n",
       "    </tr>\n",
       "    <tr>\n",
       "      <th>1</th>\n",
       "      <td>112</td>\n",
       "      <td>226092</td>\n",
       "    </tr>\n",
       "    <tr>\n",
       "      <th>2</th>\n",
       "      <td>113</td>\n",
       "      <td>45166</td>\n",
       "    </tr>\n",
       "    <tr>\n",
       "      <th>3</th>\n",
       "      <td>114</td>\n",
       "      <td>5005</td>\n",
       "    </tr>\n",
       "    <tr>\n",
       "      <th>4</th>\n",
       "      <td>115</td>\n",
       "      <td>352782</td>\n",
       "    </tr>\n",
       "  </tbody>\n",
       "</table>\n",
       "</div>"
      ],
      "text/plain": [
       "  industry_code  nat_emplvl\n",
       "0           111      527459\n",
       "1           112      226092\n",
       "2           113       45166\n",
       "3           114        5005\n",
       "4           115      352782"
      ]
     },
     "execution_count": 19,
     "metadata": {},
     "output_type": "execute_result"
    }
   ],
   "source": [
    "df_national.reset_index(inplace = True)\n",
    "df_national.rename({\"annual_avg_emplvl\":\"nat_emplvl\"}, axis = 1, inplace = True)\n",
    "df_national.head()\n",
    "\n",
    "df_national.to_stata(\"/Users/changjay/Desktop/Pandas-to-STATA Project/countylevel_tariffs_and_exports/step1.dta\") # for checking"
   ]
  },
  {
   "cell_type": "code",
   "execution_count": 20,
   "id": "9ad7f2c4",
   "metadata": {},
   "outputs": [
    {
     "data": {
      "text/plain": [
       "114942685"
      ]
     },
     "execution_count": 20,
     "metadata": {},
     "output_type": "execute_result"
    }
   ],
   "source": [
    "df_county.annual_avg_emplvl.sum()\n",
    "# df_national.shape"
   ]
  },
  {
   "cell_type": "code",
   "execution_count": 21,
   "id": "24172b8c",
   "metadata": {
    "collapsed": true
   },
   "outputs": [
    {
     "name": "stdout",
     "output_type": "stream",
     "text": [
      "\n",
      "**********************************************************************************\n",
      "Downloading and processing Trade Data\n",
      "\n"
     ]
    },
    {
     "ename": "AttributeError",
     "evalue": "'DataFrame' object has no attribute 'dtype'",
     "output_type": "error",
     "traceback": [
      "\u001b[0;31m---------------------------------------------------------------------------\u001b[0m",
      "\u001b[0;31mAttributeError\u001b[0m                            Traceback (most recent call last)",
      "Input \u001b[0;32mIn [21]\u001b[0m, in \u001b[0;36m<cell line: 33>\u001b[0;34m()\u001b[0m\n\u001b[1;32m     29\u001b[0m df_china_trade\u001b[38;5;241m.\u001b[39mE_COMMODITY \u001b[38;5;241m=\u001b[39m df_china_trade\u001b[38;5;241m.\u001b[39mE_COMMODITY\u001b[38;5;241m.\u001b[39mastype(\u001b[38;5;28mstr\u001b[39m)\n\u001b[1;32m     31\u001b[0m df_china_trade\u001b[38;5;241m.\u001b[39mtail(\u001b[38;5;241m10\u001b[39m)\n\u001b[0;32m---> 33\u001b[0m \u001b[43mdf_china_trade\u001b[49m\u001b[38;5;241;43m.\u001b[39;49m\u001b[43mto_stata\u001b[49m\u001b[43m(\u001b[49m\u001b[38;5;124;43m\"\u001b[39;49m\u001b[38;5;124;43m/Users/changjay/Desktop/Pandas-to-STATA Project/countylevel_tariffs_and_exports/step2_china.dta\u001b[39;49m\u001b[38;5;124;43m\"\u001b[39;49m\u001b[43m)\u001b[49m\n",
      "File \u001b[0;32m/Library/Frameworks/Python.framework/Versions/3.8/lib/python3.8/site-packages/pandas/util/_decorators.py:207\u001b[0m, in \u001b[0;36mdeprecate_kwarg.<locals>._deprecate_kwarg.<locals>.wrapper\u001b[0;34m(*args, **kwargs)\u001b[0m\n\u001b[1;32m    205\u001b[0m     \u001b[38;5;28;01melse\u001b[39;00m:\n\u001b[1;32m    206\u001b[0m         kwargs[new_arg_name] \u001b[38;5;241m=\u001b[39m new_arg_value\n\u001b[0;32m--> 207\u001b[0m \u001b[38;5;28;01mreturn\u001b[39;00m \u001b[43mfunc\u001b[49m\u001b[43m(\u001b[49m\u001b[38;5;241;43m*\u001b[39;49m\u001b[43margs\u001b[49m\u001b[43m,\u001b[49m\u001b[43m \u001b[49m\u001b[38;5;241;43m*\u001b[39;49m\u001b[38;5;241;43m*\u001b[39;49m\u001b[43mkwargs\u001b[49m\u001b[43m)\u001b[49m\n",
      "File \u001b[0;32m/Library/Frameworks/Python.framework/Versions/3.8/lib/python3.8/site-packages/pandas/core/frame.py:2638\u001b[0m, in \u001b[0;36mDataFrame.to_stata\u001b[0;34m(self, path, convert_dates, write_index, byteorder, time_stamp, data_label, variable_labels, version, convert_strl, compression, storage_options, value_labels)\u001b[0m\n\u001b[1;32m   2634\u001b[0m \u001b[38;5;28;01mif\u001b[39;00m version \u001b[38;5;129;01mis\u001b[39;00m \u001b[38;5;28;01mNone\u001b[39;00m \u001b[38;5;129;01mor\u001b[39;00m version \u001b[38;5;241m>\u001b[39m\u001b[38;5;241m=\u001b[39m \u001b[38;5;241m118\u001b[39m:\n\u001b[1;32m   2635\u001b[0m     \u001b[38;5;66;03m# Specifying the version is only supported for UTF8 (118 or 119)\u001b[39;00m\n\u001b[1;32m   2636\u001b[0m     kwargs[\u001b[38;5;124m\"\u001b[39m\u001b[38;5;124mversion\u001b[39m\u001b[38;5;124m\"\u001b[39m] \u001b[38;5;241m=\u001b[39m version\n\u001b[0;32m-> 2638\u001b[0m writer \u001b[38;5;241m=\u001b[39m \u001b[43mstatawriter\u001b[49m\u001b[43m(\u001b[49m\n\u001b[1;32m   2639\u001b[0m \u001b[43m    \u001b[49m\u001b[43mpath\u001b[49m\u001b[43m,\u001b[49m\n\u001b[1;32m   2640\u001b[0m \u001b[43m    \u001b[49m\u001b[38;5;28;43mself\u001b[39;49m\u001b[43m,\u001b[49m\n\u001b[1;32m   2641\u001b[0m \u001b[43m    \u001b[49m\u001b[43mconvert_dates\u001b[49m\u001b[38;5;241;43m=\u001b[39;49m\u001b[43mconvert_dates\u001b[49m\u001b[43m,\u001b[49m\n\u001b[1;32m   2642\u001b[0m \u001b[43m    \u001b[49m\u001b[43mbyteorder\u001b[49m\u001b[38;5;241;43m=\u001b[39;49m\u001b[43mbyteorder\u001b[49m\u001b[43m,\u001b[49m\n\u001b[1;32m   2643\u001b[0m \u001b[43m    \u001b[49m\u001b[43mtime_stamp\u001b[49m\u001b[38;5;241;43m=\u001b[39;49m\u001b[43mtime_stamp\u001b[49m\u001b[43m,\u001b[49m\n\u001b[1;32m   2644\u001b[0m \u001b[43m    \u001b[49m\u001b[43mdata_label\u001b[49m\u001b[38;5;241;43m=\u001b[39;49m\u001b[43mdata_label\u001b[49m\u001b[43m,\u001b[49m\n\u001b[1;32m   2645\u001b[0m \u001b[43m    \u001b[49m\u001b[43mwrite_index\u001b[49m\u001b[38;5;241;43m=\u001b[39;49m\u001b[43mwrite_index\u001b[49m\u001b[43m,\u001b[49m\n\u001b[1;32m   2646\u001b[0m \u001b[43m    \u001b[49m\u001b[43mvariable_labels\u001b[49m\u001b[38;5;241;43m=\u001b[39;49m\u001b[43mvariable_labels\u001b[49m\u001b[43m,\u001b[49m\n\u001b[1;32m   2647\u001b[0m \u001b[43m    \u001b[49m\u001b[43mcompression\u001b[49m\u001b[38;5;241;43m=\u001b[39;49m\u001b[43mcompression\u001b[49m\u001b[43m,\u001b[49m\n\u001b[1;32m   2648\u001b[0m \u001b[43m    \u001b[49m\u001b[43mstorage_options\u001b[49m\u001b[38;5;241;43m=\u001b[39;49m\u001b[43mstorage_options\u001b[49m\u001b[43m,\u001b[49m\n\u001b[1;32m   2649\u001b[0m \u001b[43m    \u001b[49m\u001b[43mvalue_labels\u001b[49m\u001b[38;5;241;43m=\u001b[39;49m\u001b[43mvalue_labels\u001b[49m\u001b[43m,\u001b[49m\n\u001b[1;32m   2650\u001b[0m \u001b[43m    \u001b[49m\u001b[38;5;241;43m*\u001b[39;49m\u001b[38;5;241;43m*\u001b[39;49m\u001b[43mkwargs\u001b[49m\u001b[43m,\u001b[49m\n\u001b[1;32m   2651\u001b[0m \u001b[43m\u001b[49m\u001b[43m)\u001b[49m\n\u001b[1;32m   2652\u001b[0m writer\u001b[38;5;241m.\u001b[39mwrite_file()\n",
      "File \u001b[0;32m/Library/Frameworks/Python.framework/Versions/3.8/lib/python3.8/site-packages/pandas/io/stata.py:2282\u001b[0m, in \u001b[0;36mStataWriter.__init__\u001b[0;34m(self, fname, data, convert_dates, write_index, byteorder, time_stamp, data_label, variable_labels, compression, storage_options, value_labels)\u001b[0m\n\u001b[1;32m   2280\u001b[0m \u001b[38;5;28mself\u001b[39m\u001b[38;5;241m.\u001b[39m_converted_names: \u001b[38;5;28mdict\u001b[39m[Hashable, \u001b[38;5;28mstr\u001b[39m] \u001b[38;5;241m=\u001b[39m {}\n\u001b[1;32m   2281\u001b[0m \u001b[38;5;66;03m# attach nobs, nvars, data, varlist, typlist\u001b[39;00m\n\u001b[0;32m-> 2282\u001b[0m \u001b[38;5;28;43mself\u001b[39;49m\u001b[38;5;241;43m.\u001b[39;49m\u001b[43m_prepare_pandas\u001b[49m\u001b[43m(\u001b[49m\u001b[43mdata\u001b[49m\u001b[43m)\u001b[49m\n\u001b[1;32m   2283\u001b[0m \u001b[38;5;28mself\u001b[39m\u001b[38;5;241m.\u001b[39mstorage_options \u001b[38;5;241m=\u001b[39m storage_options\n\u001b[1;32m   2285\u001b[0m \u001b[38;5;28;01mif\u001b[39;00m byteorder \u001b[38;5;129;01mis\u001b[39;00m \u001b[38;5;28;01mNone\u001b[39;00m:\n",
      "File \u001b[0;32m/Library/Frameworks/Python.framework/Versions/3.8/lib/python3.8/site-packages/pandas/io/stata.py:2521\u001b[0m, in \u001b[0;36mStataWriter._prepare_pandas\u001b[0;34m(self, data)\u001b[0m\n\u001b[1;32m   2517\u001b[0m data \u001b[38;5;241m=\u001b[39m \u001b[38;5;28mself\u001b[39m\u001b[38;5;241m.\u001b[39m_check_column_names(data)\n\u001b[1;32m   2519\u001b[0m \u001b[38;5;66;03m# Check columns for compatibility with stata, upcast if necessary\u001b[39;00m\n\u001b[1;32m   2520\u001b[0m \u001b[38;5;66;03m# Raise if outside the supported range\u001b[39;00m\n\u001b[0;32m-> 2521\u001b[0m data \u001b[38;5;241m=\u001b[39m \u001b[43m_cast_to_stata_types\u001b[49m\u001b[43m(\u001b[49m\u001b[43mdata\u001b[49m\u001b[43m)\u001b[49m\n\u001b[1;32m   2523\u001b[0m \u001b[38;5;66;03m# Replace NaNs with Stata missing values\u001b[39;00m\n\u001b[1;32m   2524\u001b[0m data \u001b[38;5;241m=\u001b[39m \u001b[38;5;28mself\u001b[39m\u001b[38;5;241m.\u001b[39m_replace_nans(data)\n",
      "File \u001b[0;32m/Library/Frameworks/Python.framework/Versions/3.8/lib/python3.8/site-packages/pandas/io/stata.py:588\u001b[0m, in \u001b[0;36m_cast_to_stata_types\u001b[0;34m(data)\u001b[0m\n\u001b[1;32m    584\u001b[0m float64_max \u001b[38;5;241m=\u001b[39m struct\u001b[38;5;241m.\u001b[39munpack(\u001b[38;5;124m\"\u001b[39m\u001b[38;5;124m<d\u001b[39m\u001b[38;5;124m\"\u001b[39m, \u001b[38;5;124mb\u001b[39m\u001b[38;5;124m\"\u001b[39m\u001b[38;5;130;01m\\xff\u001b[39;00m\u001b[38;5;130;01m\\xff\u001b[39;00m\u001b[38;5;130;01m\\xff\u001b[39;00m\u001b[38;5;130;01m\\xff\u001b[39;00m\u001b[38;5;130;01m\\xff\u001b[39;00m\u001b[38;5;130;01m\\xff\u001b[39;00m\u001b[38;5;130;01m\\xdf\u001b[39;00m\u001b[38;5;130;01m\\x7f\u001b[39;00m\u001b[38;5;124m\"\u001b[39m)[\u001b[38;5;241m0\u001b[39m]\n\u001b[1;32m    586\u001b[0m \u001b[38;5;28;01mfor\u001b[39;00m col \u001b[38;5;129;01min\u001b[39;00m data:\n\u001b[1;32m    587\u001b[0m     \u001b[38;5;66;03m# Cast from unsupported types to supported types\u001b[39;00m\n\u001b[0;32m--> 588\u001b[0m     is_nullable_int \u001b[38;5;241m=\u001b[39m \u001b[38;5;28misinstance\u001b[39m(\u001b[43mdata\u001b[49m\u001b[43m[\u001b[49m\u001b[43mcol\u001b[49m\u001b[43m]\u001b[49m\u001b[38;5;241;43m.\u001b[39;49m\u001b[43mdtype\u001b[49m, (_IntegerDtype, BooleanDtype))\n\u001b[1;32m    589\u001b[0m     orig \u001b[38;5;241m=\u001b[39m data[col]\n\u001b[1;32m    590\u001b[0m     \u001b[38;5;66;03m# We need to find orig_missing before altering data below\u001b[39;00m\n",
      "File \u001b[0;32m/Library/Frameworks/Python.framework/Versions/3.8/lib/python3.8/site-packages/pandas/core/generic.py:5575\u001b[0m, in \u001b[0;36mNDFrame.__getattr__\u001b[0;34m(self, name)\u001b[0m\n\u001b[1;32m   5568\u001b[0m \u001b[38;5;28;01mif\u001b[39;00m (\n\u001b[1;32m   5569\u001b[0m     name \u001b[38;5;129;01mnot\u001b[39;00m \u001b[38;5;129;01min\u001b[39;00m \u001b[38;5;28mself\u001b[39m\u001b[38;5;241m.\u001b[39m_internal_names_set\n\u001b[1;32m   5570\u001b[0m     \u001b[38;5;129;01mand\u001b[39;00m name \u001b[38;5;129;01mnot\u001b[39;00m \u001b[38;5;129;01min\u001b[39;00m \u001b[38;5;28mself\u001b[39m\u001b[38;5;241m.\u001b[39m_metadata\n\u001b[1;32m   5571\u001b[0m     \u001b[38;5;129;01mand\u001b[39;00m name \u001b[38;5;129;01mnot\u001b[39;00m \u001b[38;5;129;01min\u001b[39;00m \u001b[38;5;28mself\u001b[39m\u001b[38;5;241m.\u001b[39m_accessors\n\u001b[1;32m   5572\u001b[0m     \u001b[38;5;129;01mand\u001b[39;00m \u001b[38;5;28mself\u001b[39m\u001b[38;5;241m.\u001b[39m_info_axis\u001b[38;5;241m.\u001b[39m_can_hold_identifiers_and_holds_name(name)\n\u001b[1;32m   5573\u001b[0m ):\n\u001b[1;32m   5574\u001b[0m     \u001b[38;5;28;01mreturn\u001b[39;00m \u001b[38;5;28mself\u001b[39m[name]\n\u001b[0;32m-> 5575\u001b[0m \u001b[38;5;28;01mreturn\u001b[39;00m \u001b[38;5;28;43mobject\u001b[39;49m\u001b[38;5;241;43m.\u001b[39;49m\u001b[38;5;21;43m__getattribute__\u001b[39;49m\u001b[43m(\u001b[49m\u001b[38;5;28;43mself\u001b[39;49m\u001b[43m,\u001b[49m\u001b[43m \u001b[49m\u001b[43mname\u001b[49m\u001b[43m)\u001b[49m\n",
      "\u001b[0;31mAttributeError\u001b[0m: 'DataFrame' object has no attribute 'dtype'"
     ]
    }
   ],
   "source": [
    "print(\"\")\n",
    "print(\"**********************************************************************************\")\n",
    "print(\"Downloading and processing Trade Data\")\n",
    "print(\"\")\n",
    "\n",
    "my_key = \"&key=34e40301bda77077e24c859c6c6c0b721ad73fc7\"\n",
    "# This is my key. I'm nice and I have it posted. If you will be doing more with this\n",
    "# please get your own key!\n",
    "\n",
    "end_use = \"hs?get=E_COMMODITY,CTY_CODE,ALL_VAL_MO,CTY_NAME\"\n",
    "\n",
    "url = \"https://api.census.gov/data/timeseries/intltrade/exports/\" + end_use \n",
    "url = url + my_key + \"&time==from+2015-01\" + \"&COMM_LVL=HS6\"\n",
    "\n",
    "url = url + \"&CTY_CODE=5700\"\n",
    "\n",
    "r = requests.get(url) \n",
    "\n",
    "df_china_trade = pd.DataFrame(r.json()[1:]) # This then converts it to a dataframe\n",
    "# Note that the first entry is the labels\n",
    "\n",
    "df_china_trade.columns = r.json()[0]\n",
    "\n",
    "df_china_trade.time = pd.to_datetime(df_china_trade.time, format=\"%Y-%m\")\n",
    "# This is so I can call this correctly...\n",
    "\n",
    "df_china_trade[\"china_trade\"] = df_china_trade.ALL_VAL_MO.astype(float)\n",
    "\n",
    "df_china_trade.E_COMMODITY = df_china_trade.E_COMMODITY.astype(str)\n",
    "\n",
    "df_china_trade.tail(10)"
   ]
  },
  {
   "cell_type": "code",
   "execution_count": 29,
   "id": "3accc7b2",
   "metadata": {},
   "outputs": [
    {
     "data": {
      "text/plain": [
       "(348612, 8)"
      ]
     },
     "execution_count": 29,
     "metadata": {},
     "output_type": "execute_result"
    }
   ],
   "source": [
    "df_china_trade.shape"
   ]
  },
  {
   "cell_type": "code",
   "execution_count": 24,
   "id": "6701de98",
   "metadata": {},
   "outputs": [],
   "source": [
    "df_china_trade.to_csv(\"/Users/changjay/Desktop/Pandas-to-STATA Project/countylevel_tariffs_and_exports/step2_china.csv\")"
   ]
  },
  {
   "cell_type": "code",
   "execution_count": 26,
   "id": "8604f17e",
   "metadata": {
    "scrolled": true
   },
   "outputs": [
    {
     "data": {
      "text/plain": [
       "<Response [200]>"
      ]
     },
     "execution_count": 26,
     "metadata": {},
     "output_type": "execute_result"
    }
   ],
   "source": [
    "r"
   ]
  },
  {
   "cell_type": "code",
   "execution_count": 27,
   "id": "a379ce75",
   "metadata": {},
   "outputs": [
    {
     "data": {
      "text/html": [
       "<div>\n",
       "<style scoped>\n",
       "    .dataframe tbody tr th:only-of-type {\n",
       "        vertical-align: middle;\n",
       "    }\n",
       "\n",
       "    .dataframe tbody tr th {\n",
       "        vertical-align: top;\n",
       "    }\n",
       "\n",
       "    .dataframe thead th {\n",
       "        text-align: right;\n",
       "    }\n",
       "</style>\n",
       "<table border=\"1\" class=\"dataframe\">\n",
       "  <thead>\n",
       "    <tr style=\"text-align: right;\">\n",
       "      <th></th>\n",
       "      <th>E_COMMODITY</th>\n",
       "      <th>ALL_VAL_MO</th>\n",
       "      <th>time</th>\n",
       "      <th>COMM_LVL</th>\n",
       "      <th>total_trade</th>\n",
       "    </tr>\n",
       "  </thead>\n",
       "  <tbody>\n",
       "    <tr>\n",
       "      <th>0</th>\n",
       "      <td>600544</td>\n",
       "      <td>4546</td>\n",
       "      <td>2015-01-01</td>\n",
       "      <td>HS6</td>\n",
       "      <td>4546.0</td>\n",
       "    </tr>\n",
       "    <tr>\n",
       "      <th>1</th>\n",
       "      <td>600542</td>\n",
       "      <td>53239</td>\n",
       "      <td>2015-01-01</td>\n",
       "      <td>HS6</td>\n",
       "      <td>53239.0</td>\n",
       "    </tr>\n",
       "    <tr>\n",
       "      <th>2</th>\n",
       "      <td>600541</td>\n",
       "      <td>8175</td>\n",
       "      <td>2015-01-01</td>\n",
       "      <td>HS6</td>\n",
       "      <td>8175.0</td>\n",
       "    </tr>\n",
       "    <tr>\n",
       "      <th>3</th>\n",
       "      <td>600534</td>\n",
       "      <td>497405</td>\n",
       "      <td>2015-01-01</td>\n",
       "      <td>HS6</td>\n",
       "      <td>497405.0</td>\n",
       "    </tr>\n",
       "    <tr>\n",
       "      <th>4</th>\n",
       "      <td>600533</td>\n",
       "      <td>1993074</td>\n",
       "      <td>2015-01-01</td>\n",
       "      <td>HS6</td>\n",
       "      <td>1993074.0</td>\n",
       "    </tr>\n",
       "    <tr>\n",
       "      <th>5</th>\n",
       "      <td>600532</td>\n",
       "      <td>10793848</td>\n",
       "      <td>2015-01-01</td>\n",
       "      <td>HS6</td>\n",
       "      <td>10793848.0</td>\n",
       "    </tr>\n",
       "    <tr>\n",
       "      <th>6</th>\n",
       "      <td>600531</td>\n",
       "      <td>1621489</td>\n",
       "      <td>2015-01-01</td>\n",
       "      <td>HS6</td>\n",
       "      <td>1621489.0</td>\n",
       "    </tr>\n",
       "    <tr>\n",
       "      <th>7</th>\n",
       "      <td>600523</td>\n",
       "      <td>33574</td>\n",
       "      <td>2015-01-01</td>\n",
       "      <td>HS6</td>\n",
       "      <td>33574.0</td>\n",
       "    </tr>\n",
       "    <tr>\n",
       "      <th>8</th>\n",
       "      <td>600522</td>\n",
       "      <td>1305273</td>\n",
       "      <td>2015-01-01</td>\n",
       "      <td>HS6</td>\n",
       "      <td>1305273.0</td>\n",
       "    </tr>\n",
       "    <tr>\n",
       "      <th>9</th>\n",
       "      <td>600521</td>\n",
       "      <td>146116</td>\n",
       "      <td>2015-01-01</td>\n",
       "      <td>HS6</td>\n",
       "      <td>146116.0</td>\n",
       "    </tr>\n",
       "  </tbody>\n",
       "</table>\n",
       "</div>"
      ],
      "text/plain": [
       "  E_COMMODITY ALL_VAL_MO       time COMM_LVL  total_trade\n",
       "0      600544       4546 2015-01-01      HS6       4546.0\n",
       "1      600542      53239 2015-01-01      HS6      53239.0\n",
       "2      600541       8175 2015-01-01      HS6       8175.0\n",
       "3      600534     497405 2015-01-01      HS6     497405.0\n",
       "4      600533    1993074 2015-01-01      HS6    1993074.0\n",
       "5      600532   10793848 2015-01-01      HS6   10793848.0\n",
       "6      600531    1621489 2015-01-01      HS6    1621489.0\n",
       "7      600523      33574 2015-01-01      HS6      33574.0\n",
       "8      600522    1305273 2015-01-01      HS6    1305273.0\n",
       "9      600521     146116 2015-01-01      HS6     146116.0"
      ]
     },
     "execution_count": 27,
     "metadata": {},
     "output_type": "execute_result"
    }
   ],
   "source": [
    "end_use = \"hs?get=E_COMMODITY,ALL_VAL_MO\"\n",
    "\n",
    "url = \"https://api.census.gov/data/timeseries/intltrade/exports/\"\n",
    "url = url + end_use + my_key + \"&time==from+2015-01\" + \"&COMM_LVL=HS6\"\n",
    "\n",
    "r = requests.get(url) \n",
    "\n",
    "df_all_trade = pd.DataFrame(r.json()[1:]) # This then converts it to a dataframe\n",
    "# Note that the first entry is the labels\n",
    "\n",
    "df_all_trade.columns = r.json()[0]\n",
    "\n",
    "df_all_trade.time = pd.to_datetime(df_all_trade.time, format=\"%Y-%m\")\n",
    "# This is so I can call this correctly...\n",
    "\n",
    "df_all_trade[\"total_trade\"] = df_all_trade.ALL_VAL_MO.astype(float)\n",
    "\n",
    "df_all_trade.E_COMMODITY = df_all_trade.E_COMMODITY.astype(str)\n",
    "\n",
    "df_all_trade.head(10)"
   ]
  },
  {
   "cell_type": "code",
   "execution_count": 30,
   "id": "4e6e218c",
   "metadata": {},
   "outputs": [],
   "source": [
    "df_all_trade.to_csv(\"/Users/changjay/Desktop/Pandas-to-STATA Project/countylevel_tariffs_and_exports/step2_world.csv\")"
   ]
  },
  {
   "cell_type": "code",
   "execution_count": 6,
   "id": "4e1cd84e",
   "metadata": {},
   "outputs": [],
   "source": [
    "dftrade = df_all_trade.merge(df_china_trade[[\"E_COMMODITY\", \"time\",\"china_trade\"]], left_on = [\"E_COMMODITY\", \"time\"], \n",
    "                             right_on = [\"E_COMMODITY\", \"time\"], how = \"left\")\n",
    "\n",
    "dftrade.set_index(\"time\", inplace = True)\n",
    "\n",
    "dftrade.drop([\"ALL_VAL_MO\"], axis = 1, inplace = True)"
   ]
  },
  {
   "cell_type": "code",
   "execution_count": 31,
   "id": "1131dc5b",
   "metadata": {},
   "outputs": [
    {
     "data": {
      "text/plain": [
       "(487163, 4)"
      ]
     },
     "execution_count": 31,
     "metadata": {},
     "output_type": "execute_result"
    }
   ],
   "source": [
    "dftrade.shape"
   ]
  },
  {
   "cell_type": "code",
   "execution_count": 8,
   "id": "a2596448",
   "metadata": {},
   "outputs": [],
   "source": [
    "dftrade.to_stata(\"/Users/changjay/Desktop/Pandas-to-STATA Project/countylevel_tariffs_and_exports/step2.dta\") # # for checking"
   ]
  }
 ],
 "metadata": {
  "kernelspec": {
   "display_name": "Python 3 (ipykernel)",
   "language": "python",
   "name": "python3"
  },
  "language_info": {
   "codemirror_mode": {
    "name": "ipython",
    "version": 3
   },
   "file_extension": ".py",
   "mimetype": "text/x-python",
   "name": "python",
   "nbconvert_exporter": "python",
   "pygments_lexer": "ipython3",
   "version": "3.8.5"
  }
 },
 "nbformat": 4,
 "nbformat_minor": 5
}
